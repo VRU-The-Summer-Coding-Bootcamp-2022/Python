{
 "cells": [
  {
   "cell_type": "markdown",
   "metadata": {},
   "source": [
    "# The Summer Coding Bootcamp represents: Python\n",
    "## instructor: Parsa Kamalipour\n",
    "### Part 1"
   ]
  },
  {
   "cell_type": "markdown",
   "metadata": {},
   "source": [
    "# `Primitive Variables` in Python"
   ]
  },
  {
   "cell_type": "markdown",
   "metadata": {},
   "source": [
    "#### *use this line of code to print what you want to say or your variables:*"
   ]
  },
  {
   "cell_type": "code",
   "execution_count": 10,
   "metadata": {},
   "outputs": [
    {
     "name": "stdout",
     "output_type": "stream",
     "text": [
      "hello world\n"
     ]
    }
   ],
   "source": [
    "print(\"hello world\")"
   ]
  },
  {
   "cell_type": "code",
   "execution_count": 11,
   "metadata": {},
   "outputs": [
    {
     "name": "stdout",
     "output_type": "stream",
     "text": [
      "ali\n"
     ]
    }
   ],
   "source": [
    "print(\"{}\".format(\"ali\"))"
   ]
  },
  {
   "cell_type": "code",
   "execution_count": 13,
   "metadata": {},
   "outputs": [
    {
     "name": "stdout",
     "output_type": "stream",
     "text": [
      "ali\n"
     ]
    }
   ],
   "source": [
    "print(f\"{'ali'}\")"
   ]
  },
  {
   "cell_type": "markdown",
   "metadata": {},
   "source": [
    "#### *now lets get back to the variables:* 1st. `Integer`"
   ]
  },
  {
   "cell_type": "code",
   "execution_count": 14,
   "metadata": {},
   "outputs": [
    {
     "name": "stdout",
     "output_type": "stream",
     "text": [
      "80\n",
      "<class 'int'>\n"
     ]
    }
   ],
   "source": [
    "number_1 = 80\n",
    "\n",
    "print(number_1)\n",
    "\n",
    "print(type(number_1))"
   ]
  },
  {
   "cell_type": "markdown",
   "metadata": {},
   "source": [
    "**Python detects data types automatically**"
   ]
  },
  {
   "cell_type": "code",
   "execution_count": 16,
   "metadata": {},
   "outputs": [
    {
     "name": "stdout",
     "output_type": "stream",
     "text": [
      "-2\n",
      "<class 'int'>\n"
     ]
    }
   ],
   "source": [
    "number_2 = -2\n",
    "print(number_2)\n",
    "print(type(number_2))"
   ]
  },
  {
   "cell_type": "markdown",
   "metadata": {},
   "source": [
    "#### 2nd type: `Float & dubble`"
   ]
  },
  {
   "cell_type": "code",
   "execution_count": 17,
   "metadata": {},
   "outputs": [
    {
     "name": "stdout",
     "output_type": "stream",
     "text": [
      "3.14\n",
      "<class 'float'>\n"
     ]
    }
   ],
   "source": [
    "number_3 = 3.14\n",
    "print(number_3)\n",
    "print(type(number_3))"
   ]
  },
  {
   "cell_type": "code",
   "execution_count": 18,
   "metadata": {},
   "outputs": [
    {
     "name": "stdout",
     "output_type": "stream",
     "text": [
      "0.0\n",
      "<class 'float'>\n"
     ]
    }
   ],
   "source": [
    "number_4 = 0.0\n",
    "print(number_4)\n",
    "print(type(number_4))"
   ]
  },
  {
   "cell_type": "code",
   "execution_count": 22,
   "metadata": {},
   "outputs": [
    {
     "name": "stdout",
     "output_type": "stream",
     "text": [
      "314000.0\n",
      "<class 'float'>\n"
     ]
    }
   ],
   "source": [
    "number_5 = 3.14e5\n",
    "print(number_5)\n",
    "print(type(number_5))"
   ]
  },
  {
   "cell_type": "markdown",
   "metadata": {},
   "source": [
    "#### 3rd type: `String`"
   ]
  },
  {
   "cell_type": "code",
   "execution_count": 20,
   "metadata": {},
   "outputs": [
    {
     "name": "stdout",
     "output_type": "stream",
     "text": [
      "hi i'm parsa\n",
      "<class 'str'>\n"
     ]
    }
   ],
   "source": [
    "word_1 = \"hi i'm parsa\"\n",
    "print(word_1)\n",
    "print(type(word_1))"
   ]
  },
  {
   "cell_type": "code",
   "execution_count": 21,
   "metadata": {},
   "outputs": [
    {
     "name": "stdout",
     "output_type": "stream",
     "text": [
      "hi i'm parsa\n",
      "<class 'str'>\n"
     ]
    }
   ],
   "source": [
    "word_2 = 'hi i\\'m parsa'\n",
    "print(word_2)\n",
    "print(type(word_2))"
   ]
  },
  {
   "cell_type": "markdown",
   "metadata": {},
   "source": [
    "**Char:** same thing as string"
   ]
  },
  {
   "cell_type": "code",
   "execution_count": 23,
   "metadata": {},
   "outputs": [
    {
     "name": "stdout",
     "output_type": "stream",
     "text": [
      "B\n",
      "<class 'str'>\n"
     ]
    }
   ],
   "source": [
    "word_3 = \"B\"\n",
    "print(word_3)\n",
    "print(type(word_3))"
   ]
  },
  {
   "cell_type": "markdown",
   "metadata": {},
   "source": [
    "**multi line string:** same thing as string"
   ]
  },
  {
   "cell_type": "code",
   "execution_count": 24,
   "metadata": {},
   "outputs": [
    {
     "name": "stdout",
     "output_type": "stream",
     "text": [
      "Hi, my name is Parsa.\n",
      "I am your instructor for the Python course.\n",
      "<class 'str'>\n"
     ]
    }
   ],
   "source": [
    "word_4 = '''Hi, my name is Parsa.\n",
    "I am your instructor for the Python course.'''\n",
    "print(word_4)\n",
    "print(type(word_4))"
   ]
  },
  {
   "cell_type": "markdown",
   "metadata": {},
   "source": [
    "**raw string:** same thing as string"
   ]
  },
  {
   "cell_type": "code",
   "execution_count": 25,
   "metadata": {},
   "outputs": [
    {
     "name": "stdout",
     "output_type": "stream",
     "text": [
      "the summer \\n coding bootcamp\n",
      "<class 'str'>\n"
     ]
    }
   ],
   "source": [
    "word_5 = r\"the summer \\n coding bootcamp\"\n",
    "print(word_5)\n",
    "print(type(word_5))"
   ]
  },
  {
   "cell_type": "markdown",
   "metadata": {},
   "source": [
    "**unicode string:** same thing as string"
   ]
  },
  {
   "cell_type": "code",
   "execution_count": 26,
   "metadata": {},
   "outputs": [
    {
     "name": "stdout",
     "output_type": "stream",
     "text": [
      "Ünicöde\n",
      "<class 'str'>\n"
     ]
    }
   ],
   "source": [
    "word_6 = u\"\\u00dcnic\\u00f6de\"\n",
    "print(word_6)\n",
    "print(type(word_6))"
   ]
  },
  {
   "cell_type": "markdown",
   "metadata": {},
   "source": [
    "#### `constants` are not supported natively, we will find a way to work with it later"
   ]
  },
  {
   "cell_type": "code",
   "execution_count": null,
   "metadata": {},
   "outputs": [
    {
     "name": "stdout",
     "output_type": "stream",
     "text": [
      "10\n",
      "12\n"
     ]
    }
   ],
   "source": [
    "MYNUMBER = 10\n",
    "print(MYNUMBER)\n",
    "MYNUMBER = 12\n",
    "print(MYNUMBER)"
   ]
  },
  {
   "cell_type": "markdown",
   "metadata": {},
   "source": [
    "#### 4th type: `Binary & Hex & oct` same as integer"
   ]
  },
  {
   "cell_type": "code",
   "execution_count": 31,
   "metadata": {},
   "outputs": [
    {
     "name": "stdout",
     "output_type": "stream",
     "text": [
      " binary number:10, it's type:<class 'int'>.\n",
      "      octal number:200, it's type:<class 'int'>.\n",
      "      hexadecimal number:300, it's type:<class 'int'>.\n",
      "      \n"
     ]
    }
   ],
   "source": [
    "bi = 0b1010 #Binary Literals\n",
    "oct = 0o310 #Octal Literal\n",
    "hex = 0x12c #Hexadecimal Literal\n",
    "\n",
    "print(\"\"\" binary number:{}, it's type:{}.\n",
    "      octal number:{}, it's type:{}.\n",
    "      hexadecimal number:{}, it's type:{}.\n",
    "      \"\"\".format(bi, type(bi), oct, type(oct), hex, type(hex)))"
   ]
  },
  {
   "cell_type": "markdown",
   "metadata": {},
   "source": [
    "#### 5th type: `Complex`"
   ]
  },
  {
   "cell_type": "code",
   "execution_count": 34,
   "metadata": {},
   "outputs": [
    {
     "name": "stdout",
     "output_type": "stream",
     "text": [
      "(15-8j) 15.0 -8.0\n",
      "<class 'complex'>\n"
     ]
    }
   ],
   "source": [
    "complex_number = 15 + -8j\n",
    "print(complex_number, complex_number.real, complex_number.imag)\n",
    "print(type(complex_number))"
   ]
  },
  {
   "cell_type": "markdown",
   "metadata": {},
   "source": [
    "#### 6th type: `boolean`"
   ]
  },
  {
   "cell_type": "code",
   "execution_count": 36,
   "metadata": {},
   "outputs": [
    {
     "name": "stdout",
     "output_type": "stream",
     "text": [
      "True False\n",
      "<class 'bool'> <class 'bool'>\n"
     ]
    }
   ],
   "source": [
    "boolean_1 = True\n",
    "boolean_2 = False\n",
    "print(boolean_1, boolean_2)\n",
    "print(type(boolean_1), type(boolean_2))"
   ]
  },
  {
   "cell_type": "code",
   "execution_count": 1,
   "metadata": {},
   "outputs": [
    {
     "name": "stdout",
     "output_type": "stream",
     "text": [
      "False False False True\n"
     ]
    }
   ],
   "source": [
    "and_0 = False and False\n",
    "and_1 = False and True\n",
    "and_2 = True and False\n",
    "and_3 = True and True\n",
    "\n",
    "print(and_0, and_1, and_2, and_3)"
   ]
  },
  {
   "cell_type": "code",
   "execution_count": 2,
   "metadata": {},
   "outputs": [
    {
     "name": "stdout",
     "output_type": "stream",
     "text": [
      "False True True True\n"
     ]
    }
   ],
   "source": [
    "or_0 = False or False\n",
    "or_1 = False or True\n",
    "or_2 = True or False\n",
    "or_3 = True or True\n",
    "\n",
    "print(or_0, or_1, or_2, or_3)"
   ]
  },
  {
   "cell_type": "markdown",
   "metadata": {},
   "source": [
    "#### 7th type: `None`"
   ]
  },
  {
   "cell_type": "code",
   "execution_count": 3,
   "metadata": {},
   "outputs": [
    {
     "name": "stdout",
     "output_type": "stream",
     "text": [
      "None\n",
      "<class 'NoneType'>\n"
     ]
    }
   ],
   "source": [
    "var1 = None\n",
    "print(var1)\n",
    "print(type(var1))"
   ]
  }
 ],
 "metadata": {
  "kernelspec": {
   "display_name": "Python 3.10.2 ('.venv_bootcamp': venv)",
   "language": "python",
   "name": "python3"
  },
  "language_info": {
   "codemirror_mode": {
    "name": "ipython",
    "version": 3
   },
   "file_extension": ".py",
   "mimetype": "text/x-python",
   "name": "python",
   "nbconvert_exporter": "python",
   "pygments_lexer": "ipython3",
   "version": "3.10.2"
  },
  "orig_nbformat": 4,
  "vscode": {
   "interpreter": {
    "hash": "57e12f7a9cbe9a77b5a9882830a219468ab15a379b96eade14ae6d0ceaf2078c"
   }
  }
 },
 "nbformat": 4,
 "nbformat_minor": 2
}
