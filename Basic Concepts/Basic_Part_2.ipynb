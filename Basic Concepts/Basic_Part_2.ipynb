{
 "cells": [
  {
   "cell_type": "markdown",
   "metadata": {},
   "source": [
    "# The Summer Coding Bootcamp represents: Python\n",
    "## instructor: Parsa Kamalipour\n",
    "### Part 2"
   ]
  },
  {
   "cell_type": "markdown",
   "metadata": {},
   "source": [
    "#### `Multi-line statement`"
   ]
  },
  {
   "cell_type": "code",
   "execution_count": 1,
   "metadata": {},
   "outputs": [
    {
     "name": "stdout",
     "output_type": "stream",
     "text": [
      "21\n"
     ]
    }
   ],
   "source": [
    "num_1 = 1 + 2 + \\\n",
    "        3 + 4 + \\\n",
    "        5 + 6\n",
    "        \n",
    "print(num_1)"
   ]
  },
  {
   "cell_type": "markdown",
   "metadata": {},
   "source": [
    "*We don't need \\ for () and [], {}*"
   ]
  },
  {
   "cell_type": "code",
   "execution_count": 2,
   "metadata": {},
   "outputs": [
    {
     "name": "stdout",
     "output_type": "stream",
     "text": [
      "21\n"
     ]
    }
   ],
   "source": [
    "num_2 = (1 + 2 +\n",
    "         3 + 4 +\n",
    "         5 + 6)\n",
    "\n",
    "print(num_2)"
   ]
  },
  {
   "cell_type": "markdown",
   "metadata": {},
   "source": [
    "#### `Python Comments`"
   ]
  },
  {
   "cell_type": "code",
   "execution_count": 3,
   "metadata": {},
   "outputs": [
    {
     "name": "stdout",
     "output_type": "stream",
     "text": [
      "hello\n"
     ]
    }
   ],
   "source": [
    "#This is a comment\n",
    "# print(\"hi\")\n",
    "print(\"hello\")"
   ]
  },
  {
   "cell_type": "code",
   "execution_count": 4,
   "metadata": {},
   "outputs": [
    {
     "name": "stdout",
     "output_type": "stream",
     "text": [
      "hello\n"
     ]
    }
   ],
   "source": [
    "\"\"\"This is a comment\n",
    "print(\"hi\")\"\"\"\n",
    "print(\"hello\")"
   ]
  },
  {
   "cell_type": "markdown",
   "metadata": {},
   "source": [
    "#### `Docstrings in Python`"
   ]
  },
  {
   "cell_type": "code",
   "execution_count": 5,
   "metadata": {},
   "outputs": [
    {
     "name": "stdout",
     "output_type": "stream",
     "text": [
      "bootcamp\n",
      "This method get your name and print it for you\n"
     ]
    }
   ],
   "source": [
    "def hello(name):\n",
    "    \"\"\"This method get your name and print it for you\"\"\"\n",
    "    print(name)\n",
    "    \n",
    "hello(\"bootcamp\")\n",
    "print(hello.__doc__)"
   ]
  },
  {
   "cell_type": "markdown",
   "metadata": {},
   "source": [
    "#### `Multiple assigning`"
   ]
  },
  {
   "cell_type": "code",
   "execution_count": 6,
   "metadata": {},
   "outputs": [
    {
     "name": "stdout",
     "output_type": "stream",
     "text": [
      "1\n",
      "2.0\n",
      "3\n"
     ]
    }
   ],
   "source": [
    "a, b, c = 1, 2.0, \"3\"\n",
    "print(a)\n",
    "print(b)\n",
    "print(c)"
   ]
  },
  {
   "cell_type": "code",
   "execution_count": 7,
   "metadata": {},
   "outputs": [
    {
     "name": "stdout",
     "output_type": "stream",
     "text": [
      "4\n",
      "4\n",
      "4\n"
     ]
    }
   ],
   "source": [
    "a = b = c = 4\n",
    "print(a)\n",
    "print(b)\n",
    "print(c)"
   ]
  },
  {
   "cell_type": "markdown",
   "metadata": {},
   "source": [
    "#### `Implicit Type Conversion`"
   ]
  },
  {
   "cell_type": "code",
   "execution_count": 8,
   "metadata": {},
   "outputs": [
    {
     "name": "stdout",
     "output_type": "stream",
     "text": [
      "12.55 <class 'float'>\n"
     ]
    }
   ],
   "source": [
    "int_1 = 12\n",
    "float_1 = 0.55\n",
    "\n",
    "var_1 = int_1 + float_1\n",
    "\n",
    "print(var_1, type(var_1))"
   ]
  },
  {
   "cell_type": "code",
   "execution_count": 9,
   "metadata": {},
   "outputs": [
    {
     "ename": "TypeError",
     "evalue": "unsupported operand type(s) for +: 'int' and 'str'",
     "output_type": "error",
     "traceback": [
      "\u001b[1;31m---------------------------------------------------------------------------\u001b[0m",
      "\u001b[1;31mTypeError\u001b[0m                                 Traceback (most recent call last)",
      "\u001b[1;32md:\\Github\\Python\\Basic Concepts\\Basic_Part_2.ipynb Cell 16\u001b[0m in \u001b[0;36m<cell line: 5>\u001b[1;34m()\u001b[0m\n\u001b[0;32m      <a href='vscode-notebook-cell:/d%3A/Github/Python/Basic%20Concepts/Basic_Part_2.ipynb#X31sZmlsZQ%3D%3D?line=1'>2</a>\u001b[0m int_2 \u001b[39m=\u001b[39m \u001b[39m15\u001b[39m\n\u001b[0;32m      <a href='vscode-notebook-cell:/d%3A/Github/Python/Basic%20Concepts/Basic_Part_2.ipynb#X31sZmlsZQ%3D%3D?line=2'>3</a>\u001b[0m string_1 \u001b[39m=\u001b[39m \u001b[39m\"\u001b[39m\u001b[39m21\u001b[39m\u001b[39m\"\u001b[39m\n\u001b[1;32m----> <a href='vscode-notebook-cell:/d%3A/Github/Python/Basic%20Concepts/Basic_Part_2.ipynb#X31sZmlsZQ%3D%3D?line=4'>5</a>\u001b[0m var_2 \u001b[39m=\u001b[39m int_2 \u001b[39m+\u001b[39;49m string_1\n\u001b[0;32m      <a href='vscode-notebook-cell:/d%3A/Github/Python/Basic%20Concepts/Basic_Part_2.ipynb#X31sZmlsZQ%3D%3D?line=6'>7</a>\u001b[0m \u001b[39mprint\u001b[39m(var_2, \u001b[39mtype\u001b[39m(var_2))\n",
      "\u001b[1;31mTypeError\u001b[0m: unsupported operand type(s) for +: 'int' and 'str'"
     ]
    }
   ],
   "source": [
    "# Python is not able to use Implicit Conversion in such conditions\n",
    "int_2 = 15\n",
    "string_1 = \"21\"\n",
    "\n",
    "var_2 = int_2 + string_1\n",
    "\n",
    "print(var_2, type(var_2))"
   ]
  },
  {
   "cell_type": "markdown",
   "metadata": {},
   "source": [
    "#### `Explicit Type Conversion`"
   ]
  },
  {
   "cell_type": "code",
   "execution_count": 10,
   "metadata": {},
   "outputs": [
    {
     "name": "stdout",
     "output_type": "stream",
     "text": [
      "36 <class 'int'>\n"
     ]
    }
   ],
   "source": [
    "int_2 = 15\n",
    "string_1 = \"21\"\n",
    "\n",
    "var_2 = int_2 + int(string_1)\n",
    "\n",
    "print(var_2, type(var_2))"
   ]
  },
  {
   "cell_type": "code",
   "execution_count": null,
   "metadata": {},
   "outputs": [],
   "source": []
  }
 ],
 "metadata": {
  "kernelspec": {
   "display_name": "Python 3.10.2 ('.venv_bootcamp': venv)",
   "language": "python",
   "name": "python3"
  },
  "language_info": {
   "codemirror_mode": {
    "name": "ipython",
    "version": 3
   },
   "file_extension": ".py",
   "mimetype": "text/x-python",
   "name": "python",
   "nbconvert_exporter": "python",
   "pygments_lexer": "ipython3",
   "version": "3.10.5"
  },
  "orig_nbformat": 4,
  "vscode": {
   "interpreter": {
    "hash": "57e12f7a9cbe9a77b5a9882830a219468ab15a379b96eade14ae6d0ceaf2078c"
   }
  }
 },
 "nbformat": 4,
 "nbformat_minor": 2
}
