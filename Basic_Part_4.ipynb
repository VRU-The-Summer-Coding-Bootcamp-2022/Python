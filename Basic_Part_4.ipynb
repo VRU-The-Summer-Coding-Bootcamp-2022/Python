{
 "cells": [
  {
   "cell_type": "markdown",
   "metadata": {},
   "source": [
    "# The Summer Coding Bootcamp represents: Python\n",
    "## instructor: Parsa Kamalipour\n",
    "### Part 3"
   ]
  },
  {
   "cell_type": "markdown",
   "metadata": {},
   "source": [
    "## `while Loop`"
   ]
  },
  {
   "cell_type": "code",
   "execution_count": 3,
   "metadata": {},
   "outputs": [
    {
     "name": "stdout",
     "output_type": "stream",
     "text": [
      "The sum is 210\n"
     ]
    }
   ],
   "source": [
    "end_number = 20\n",
    "sum = 0\n",
    "counter = 1\n",
    "\n",
    "while counter <= end_number:\n",
    "    sum += counter\n",
    "    counter += 1\n",
    "\n",
    "print(\"The sum is\", sum)\n"
   ]
  },
  {
   "cell_type": "code",
   "execution_count": 4,
   "metadata": {},
   "outputs": [],
   "source": [
    "condition_flag = True\n",
    "\n",
    "while condition_flag:\n",
    "    inp = input(\"Enter 'exit' to finish the code: \")\n",
    "    if inp == 'exit':\n",
    "        condition_flag = False\n"
   ]
  },
  {
   "cell_type": "markdown",
   "metadata": {},
   "source": [
    "## `While loop with else`"
   ]
  },
  {
   "cell_type": "code",
   "execution_count": 7,
   "metadata": {},
   "outputs": [
    {
     "name": "stdout",
     "output_type": "stream",
     "text": [
      "1\n",
      "2\n",
      "3\n",
      "4\n",
      "5\n",
      "6\n",
      "7\n",
      "8\n",
      "9\n",
      "10\n",
      "no more numbers are left!\n"
     ]
    }
   ],
   "source": [
    "end_number = 10\n",
    "sum = 0\n",
    "counter = 1\n",
    "\n",
    "while counter <= end_number:\n",
    "    print(counter)\n",
    "    counter += 1\n",
    "else:\n",
    "    print(\"no more numbers are left!\")"
   ]
  },
  {
   "cell_type": "code",
   "execution_count": null,
   "metadata": {},
   "outputs": [],
   "source": []
  }
 ],
 "metadata": {
  "kernelspec": {
   "display_name": "Python 3.10.5 ('.venv_bootcamp': venv)",
   "language": "python",
   "name": "python3"
  },
  "language_info": {
   "codemirror_mode": {
    "name": "ipython",
    "version": 3
   },
   "file_extension": ".py",
   "mimetype": "text/x-python",
   "name": "python",
   "nbconvert_exporter": "python",
   "pygments_lexer": "ipython3",
   "version": "3.10.5"
  },
  "orig_nbformat": 4,
  "vscode": {
   "interpreter": {
    "hash": "57e12f7a9cbe9a77b5a9882830a219468ab15a379b96eade14ae6d0ceaf2078c"
   }
  }
 },
 "nbformat": 4,
 "nbformat_minor": 2
}
