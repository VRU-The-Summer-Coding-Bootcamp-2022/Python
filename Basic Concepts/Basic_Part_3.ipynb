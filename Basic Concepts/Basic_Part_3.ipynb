{
 "cells": [
  {
   "cell_type": "markdown",
   "metadata": {},
   "source": [
    "# The Summer Coding Bootcamp represents: Python\n",
    "## instructor: Parsa Kamalipour\n",
    "### Part 3"
   ]
  },
  {
   "cell_type": "markdown",
   "metadata": {},
   "source": [
    "## `if Statement`"
   ]
  },
  {
   "cell_type": "code",
   "execution_count": 4,
   "metadata": {},
   "outputs": [
    {
     "name": "stdout",
     "output_type": "stream",
     "text": [
      "7 is bigger than 5.\n",
      "this is going to be printed no matter what\n"
     ]
    }
   ],
   "source": [
    "num_1 = 5\n",
    "num_2 = eval(input(\"enter a number: \"))\n",
    "\n",
    "if num_2 > num_1:\n",
    "    print(\"{big} is bigger than {small}.\".format(big=num_2, small=num_1))\n",
    "print(\"this is going to be printed no matter what\")"
   ]
  },
  {
   "cell_type": "code",
   "execution_count": 5,
   "metadata": {},
   "outputs": [
    {
     "name": "stdout",
     "output_type": "stream",
     "text": [
      "this is going to be printed no matter what\n"
     ]
    }
   ],
   "source": [
    "num_1 = 5\n",
    "num_2 = 4\n",
    "\n",
    "if num_2 > num_1:\n",
    "    print(\"{big} is bigger than {small}.\".format(big=num_2, small=num_1))\n",
    "print(\"this is going to be printed no matter what\")"
   ]
  },
  {
   "cell_type": "markdown",
   "metadata": {},
   "source": [
    "## `if...else Statement`"
   ]
  },
  {
   "cell_type": "code",
   "execution_count": 7,
   "metadata": {},
   "outputs": [
    {
     "name": "stdout",
     "output_type": "stream",
     "text": [
      "4 is smaller than 5.\n",
      "this is going to be printed no matter what\n"
     ]
    }
   ],
   "source": [
    "num_1 = 5\n",
    "num_2 = 4\n",
    "\n",
    "if num_2 > num_1:\n",
    "    print(\"{0} is bigger than {1}.\".format(num_2, num_1))\n",
    "else:\n",
    "    print(\"{0} is smaller than {1}.\".format(num_2, num_1))\n",
    "    \n",
    "print(\"this is going to be printed no matter what\")"
   ]
  },
  {
   "cell_type": "code",
   "execution_count": 9,
   "metadata": {},
   "outputs": [
    {
     "name": "stdout",
     "output_type": "stream",
     "text": [
      "Positive or Zero\n"
     ]
    }
   ],
   "source": [
    "num = 10\n",
    "\n",
    "if num >= 0:\n",
    "    print(\"Positive or Zero\")\n",
    "else:\n",
    "    print(\"Negative number\")"
   ]
  },
  {
   "cell_type": "code",
   "execution_count": 11,
   "metadata": {},
   "outputs": [
    {
     "name": "stdout",
     "output_type": "stream",
     "text": [
      "Negative number\n"
     ]
    }
   ],
   "source": [
    "num = -10\n",
    "\n",
    "if num >= 0:\n",
    "    print(\"Positive or Zero\")\n",
    "else:\n",
    "    print(\"Negative number\")"
   ]
  },
  {
   "cell_type": "markdown",
   "metadata": {},
   "source": [
    "## `if...elif...else Statement`"
   ]
  },
  {
   "cell_type": "code",
   "execution_count": 12,
   "metadata": {},
   "outputs": [
    {
     "name": "stdout",
     "output_type": "stream",
     "text": [
      "Today is really cold\n"
     ]
    }
   ],
   "source": [
    "temp = eval(input(\"enter the temperature: \"))\n",
    "\n",
    "if temp < 15:\n",
    "    print(\"Today is really cold\")\n",
    "elif temp >= 15 and temp <= 30:\n",
    "    print(\"nice weather\")\n",
    "else:\n",
    "    print(\"way too hot\")"
   ]
  },
  {
   "cell_type": "code",
   "execution_count": 14,
   "metadata": {},
   "outputs": [
    {
     "name": "stdout",
     "output_type": "stream",
     "text": [
      "Zero\n"
     ]
    }
   ],
   "source": [
    "num = 0\n",
    "\n",
    "if num > 0:\n",
    "    print(\"Positive number\")\n",
    "elif num == 0:\n",
    "    print(\"Zero\")\n",
    "else:\n",
    "    print(\"Negative number\")"
   ]
  },
  {
   "cell_type": "code",
   "execution_count": 15,
   "metadata": {},
   "outputs": [
    {
     "name": "stdout",
     "output_type": "stream",
     "text": [
      "Positive number\n"
     ]
    }
   ],
   "source": [
    "num = eval(input(\"Enter a number: \"))\n",
    "if num >= 0:\n",
    "    if num == 0:\n",
    "        print(\"Zero\")\n",
    "    else:\n",
    "        print(\"Positive number\")\n",
    "else:\n",
    "    print(\"Negative number\")"
   ]
  },
  {
   "cell_type": "markdown",
   "metadata": {},
   "source": [
    "## `Intro to Python List`"
   ]
  },
  {
   "cell_type": "code",
   "execution_count": 21,
   "metadata": {},
   "outputs": [
    {
     "name": "stdout",
     "output_type": "stream",
     "text": [
      "[1, 2, 3, 4, 5]\n",
      "<class 'list'>\n",
      "<class 'int'>\n"
     ]
    }
   ],
   "source": [
    "list_1 = [1, 2, 3, 4, 5]\n",
    "print(list_1)\n",
    "print(type(list_1))\n",
    "print(type(list_1[0]))"
   ]
  },
  {
   "cell_type": "code",
   "execution_count": 23,
   "metadata": {},
   "outputs": [
    {
     "name": "stdout",
     "output_type": "stream",
     "text": [
      "[]\n",
      "<class 'list'>\n"
     ]
    },
    {
     "ename": "IndexError",
     "evalue": "list index out of range",
     "output_type": "error",
     "traceback": [
      "\u001b[1;31m---------------------------------------------------------------------------\u001b[0m",
      "\u001b[1;31mIndexError\u001b[0m                                Traceback (most recent call last)",
      "\u001b[1;32md:\\Github\\Python\\Basic Concepts\\Basic_Part_3.ipynb Cell 15\u001b[0m in \u001b[0;36m<cell line: 4>\u001b[1;34m()\u001b[0m\n\u001b[0;32m      <a href='vscode-notebook-cell:/d%3A/Github/Python/Basic%20Concepts/Basic_Part_3.ipynb#X26sZmlsZQ%3D%3D?line=1'>2</a>\u001b[0m \u001b[39mprint\u001b[39m(list_2)\n\u001b[0;32m      <a href='vscode-notebook-cell:/d%3A/Github/Python/Basic%20Concepts/Basic_Part_3.ipynb#X26sZmlsZQ%3D%3D?line=2'>3</a>\u001b[0m \u001b[39mprint\u001b[39m(\u001b[39mtype\u001b[39m(list_2))\n\u001b[1;32m----> <a href='vscode-notebook-cell:/d%3A/Github/Python/Basic%20Concepts/Basic_Part_3.ipynb#X26sZmlsZQ%3D%3D?line=3'>4</a>\u001b[0m \u001b[39mprint\u001b[39m(\u001b[39mtype\u001b[39m(list_2[\u001b[39m0\u001b[39;49m]))\n",
      "\u001b[1;31mIndexError\u001b[0m: list index out of range"
     ]
    }
   ],
   "source": [
    "list_2 = []\n",
    "print(list_2)\n",
    "print(type(list_2))\n",
    "print(type(list_2[0]))"
   ]
  },
  {
   "cell_type": "code",
   "execution_count": 26,
   "metadata": {},
   "outputs": [
    {
     "name": "stdout",
     "output_type": "stream",
     "text": [
      "[1, 'two', 3.0]\n",
      "<class 'list'>\n",
      "<class 'int'>\n",
      "<class 'str'>\n",
      "<class 'float'>\n"
     ]
    }
   ],
   "source": [
    "list_3 = [1, \"two\", 3.0]\n",
    "print(list_3)\n",
    "print(type(list_3))\n",
    "print(type(list_3[0]))\n",
    "print(type(list_3[1]))\n",
    "print(type(list_3[2]))"
   ]
  },
  {
   "cell_type": "code",
   "execution_count": 27,
   "metadata": {},
   "outputs": [
    {
     "name": "stdout",
     "output_type": "stream",
     "text": [
      "['Bootcamp', [1, 2, 3, 4], ['a', 'b', 'c']]\n",
      "<class 'list'>\n",
      "<class 'str'>\n",
      "<class 'list'>\n",
      "<class 'list'>\n",
      "1\n",
      "3\n",
      "a\n",
      "b\n"
     ]
    }
   ],
   "source": [
    "list_4 = [\n",
    "    \"Bootcamp\",\n",
    "    [1, 2, 3, 4],\n",
    "    ['a', 'b', 'c']\n",
    "]\n",
    "\n",
    "print(list_4)\n",
    "print(type(list_4))\n",
    "print(type(list_4[0]))\n",
    "print(type(list_4[1]))\n",
    "print(type(list_4[2]))\n",
    "print(list_4[1][0])\n",
    "print(list_4[1][2])\n",
    "print(list_4[2][0])\n",
    "print(list_4[2][1])"
   ]
  },
  {
   "cell_type": "markdown",
   "metadata": {},
   "source": [
    "## `Intro to Python Dictionary`"
   ]
  },
  {
   "cell_type": "code",
   "execution_count": 29,
   "metadata": {},
   "outputs": [
    {
     "name": "stdout",
     "output_type": "stream",
     "text": [
      "{}\n"
     ]
    }
   ],
   "source": [
    "dict_1 = {}\n",
    "print(dict_1)"
   ]
  },
  {
   "cell_type": "code",
   "execution_count": 32,
   "metadata": {},
   "outputs": [
    {
     "name": "stdout",
     "output_type": "stream",
     "text": [
      "{1: 'boot', 2: 'camp', 3: 2022}\n",
      "boot\n",
      "camp\n",
      "2022\n"
     ]
    }
   ],
   "source": [
    "dict_2 = {1:\"boot\", 2:\"camp\", 3:2022}\n",
    "print(dict_2)\n",
    "print(dict_2[1])\n",
    "print(dict_2[2])\n",
    "print(dict_2[3])"
   ]
  },
  {
   "cell_type": "code",
   "execution_count": 35,
   "metadata": {},
   "outputs": [
    {
     "name": "stdout",
     "output_type": "stream",
     "text": [
      "{'name': 'bootcamp', 'course': 'python', 'date': 2022}\n",
      "bootcamp\n",
      "python\n",
      "2022\n"
     ]
    }
   ],
   "source": [
    "dict_3 = {\"name\":\"bootcamp\", \"course\":\"python\", \"date\":2022}\n",
    "print(dict_3)\n",
    "print(dict_3[\"name\"])\n",
    "print(dict_3[\"course\"])\n",
    "print(dict_3[\"date\"])"
   ]
  },
  {
   "cell_type": "markdown",
   "metadata": {},
   "source": [
    "## `for Loop`"
   ]
  },
  {
   "cell_type": "code",
   "execution_count": 36,
   "metadata": {},
   "outputs": [
    {
     "name": "stdout",
     "output_type": "stream",
     "text": [
      "55\n"
     ]
    }
   ],
   "source": [
    "list_of_nums = [1, 2, 3, 4, 5, 6, 7, 8, 9, 10]\n",
    "sum = 0\n",
    "\n",
    "for num in list_of_nums:\n",
    "    sum += num\n",
    "    \n",
    "print(sum)"
   ]
  },
  {
   "cell_type": "code",
   "execution_count": 38,
   "metadata": {},
   "outputs": [
    {
     "name": "stdout",
     "output_type": "stream",
     "text": [
      "listen to The Weeknd\n",
      "listen to BMTH\n",
      "listen to Dua Lipa\n",
      "Error, entry wasn't recognized!\n"
     ]
    }
   ],
   "source": [
    "genre = ['R&B', 'Metal', 'pop', 'abcd']\n",
    "\n",
    "for style in genre:\n",
    "    if style == 'R&B':\n",
    "        print(\"listen to The Weeknd\")\n",
    "    elif style == 'Metal':\n",
    "        print(\"listen to BMTH\")\n",
    "    elif style == \"pop\":\n",
    "        print(\"listen to Dua Lipa\")\n",
    "    else:\n",
    "        print(\"Error, entry wasn't recognized!\")"
   ]
  },
  {
   "cell_type": "code",
   "execution_count": 40,
   "metadata": {},
   "outputs": [
    {
     "name": "stdout",
     "output_type": "stream",
     "text": [
      "range(0, 10)\n",
      "[0, 1, 2, 3, 4, 5, 6, 7, 8, 9]\n",
      "[2, 3, 4, 5, 6, 7]\n",
      "[2, 5, 8, 11, 14, 17]\n"
     ]
    }
   ],
   "source": [
    "print(range(10))\n",
    "\n",
    "print(list(range(10)))\n",
    "\n",
    "print(list(range(2, 8)))\n",
    "\n",
    "print(list(range(2, 20, 3)))"
   ]
  },
  {
   "cell_type": "code",
   "execution_count": 41,
   "metadata": {},
   "outputs": [
    {
     "name": "stdout",
     "output_type": "stream",
     "text": [
      "0\n",
      "2\n",
      "4\n",
      "6\n",
      "8\n",
      "10\n",
      "12\n",
      "14\n",
      "16\n",
      "18\n"
     ]
    }
   ],
   "source": [
    "for number in range(20):\n",
    "    if number % 2 == 0:\n",
    "        print(number)\n",
    "    else:\n",
    "        continue"
   ]
  },
  {
   "cell_type": "code",
   "execution_count": 44,
   "metadata": {},
   "outputs": [
    {
     "name": "stdout",
     "output_type": "stream",
     "text": [
      "10\n"
     ]
    }
   ],
   "source": [
    "list_5 = [0, 1, 2, 3, 4, 5, 6, 7, 8, 9]\n",
    "\n",
    "print(len(list_5))"
   ]
  },
  {
   "cell_type": "code",
   "execution_count": 42,
   "metadata": {},
   "outputs": [
    {
     "name": "stdout",
     "output_type": "stream",
     "text": [
      "listen to The Weeknd\n",
      "listen to BMTH\n",
      "listen to Dua Lipa\n",
      "Error, entry wasn't recognized!\n"
     ]
    }
   ],
   "source": [
    "genre = ['R&B', 'Metal', 'pop', 'abcd']\n",
    "\n",
    "for index_of_style in range(len(genre)):\n",
    "    if genre[index_of_style] == 'R&B':\n",
    "        print(\"listen to The Weeknd\")\n",
    "    elif genre[index_of_style] == 'Metal':\n",
    "        print(\"listen to BMTH\")\n",
    "    elif genre[index_of_style] == \"pop\":\n",
    "        print(\"listen to Dua Lipa\")\n",
    "    else:\n",
    "        print(\"Error, entry wasn't recognized!\")"
   ]
  },
  {
   "cell_type": "markdown",
   "metadata": {},
   "source": [
    "## `for loop with else`"
   ]
  },
  {
   "cell_type": "code",
   "execution_count": 45,
   "metadata": {},
   "outputs": [
    {
     "name": "stdout",
     "output_type": "stream",
     "text": [
      "0\n",
      "1\n",
      "3\n",
      "4\n",
      "No items left.\n"
     ]
    }
   ],
   "source": [
    "list_6 = [0, 1, 3, 4]\n",
    "\n",
    "for num in list_6:\n",
    "    print(num)\n",
    "else:\n",
    "    print(\"No items left.\")\n"
   ]
  },
  {
   "cell_type": "code",
   "execution_count": 47,
   "metadata": {},
   "outputs": [
    {
     "name": "stdout",
     "output_type": "stream",
     "text": [
      "Error, entry wasn't recognized!\n"
     ]
    }
   ],
   "source": [
    "entry = 'abcd'\n",
    "genre = {'R&B':'The Weeknd', 'Metal':'BMTH', 'pop':'Dua Lipa'}\n",
    "\n",
    "for style in genre:\n",
    "    if style == entry:\n",
    "        print(genre[style])\n",
    "        break\n",
    "else:\n",
    "    print(\"Error, entry wasn't recognized!\")"
   ]
  },
  {
   "cell_type": "code",
   "execution_count": 48,
   "metadata": {},
   "outputs": [
    {
     "name": "stdout",
     "output_type": "stream",
     "text": [
      "BMTH\n"
     ]
    }
   ],
   "source": [
    "entry = 'Metal'\n",
    "genre = {'R&B':'The Weeknd', 'Metal':'BMTH', 'pop':'Dua Lipa'}\n",
    "\n",
    "for style in genre:\n",
    "    if style == entry:\n",
    "        print(genre[style])\n",
    "        break\n",
    "else:\n",
    "    print(\"Error, entry wasn't recognized!\")"
   ]
  }
 ],
 "metadata": {
  "kernelspec": {
   "display_name": "Python 3.10.5 ('.venv_bootcamp': venv)",
   "language": "python",
   "name": "python3"
  },
  "language_info": {
   "codemirror_mode": {
    "name": "ipython",
    "version": 3
   },
   "file_extension": ".py",
   "mimetype": "text/x-python",
   "name": "python",
   "nbconvert_exporter": "python",
   "pygments_lexer": "ipython3",
   "version": "3.10.5"
  },
  "orig_nbformat": 4,
  "vscode": {
   "interpreter": {
    "hash": "57e12f7a9cbe9a77b5a9882830a219468ab15a379b96eade14ae6d0ceaf2078c"
   }
  }
 },
 "nbformat": 4,
 "nbformat_minor": 2
}
