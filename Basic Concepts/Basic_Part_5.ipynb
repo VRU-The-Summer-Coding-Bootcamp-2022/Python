{
 "cells": [
  {
   "cell_type": "markdown",
   "metadata": {},
   "source": [
    "# The Summer Coding Bootcamp represents: Python\n",
    "**instructor: Parsa Kamalipour**  \n",
    "***Part 5***"
   ]
  },
  {
   "cell_type": "markdown",
   "metadata": {},
   "source": [
    "## `Arguments in Functions`"
   ]
  },
  {
   "cell_type": "code",
   "execution_count": 18,
   "metadata": {},
   "outputs": [],
   "source": [
    "import random\n",
    "\n",
    "\n",
    "def say_hi(name: str, massages: list[str]) -> None:\n",
    "    \"\"\"this function will receive your name and say hello to it, \n",
    "    then it will choose a msg from your list and print it to the user.\n",
    "\n",
    "    Args:\n",
    "        name (str): your name\n",
    "        massages (list): a list of strings\n",
    "    \"\"\"\n",
    "    selection = random.choice(massages)\n",
    "    print(\"Hello {names}, {msg}!\".format(names=name, msg=selection))\n"
   ]
  },
  {
   "cell_type": "code",
   "execution_count": 19,
   "metadata": {},
   "outputs": [
    {
     "name": "stdout",
     "output_type": "stream",
     "text": [
      "Hello bootcamp, hard work pays off!\n"
     ]
    }
   ],
   "source": [
    "say_hi(\n",
    "    name=\"bootcamp\",\n",
    "    massages=[\n",
    "        \"Today is a great day\",\n",
    "        \"very soon you will become pro at python\",\n",
    "        \"hard work pays off\"\n",
    "    ]\n",
    ")\n"
   ]
  },
  {
   "cell_type": "code",
   "execution_count": 20,
   "metadata": {},
   "outputs": [
    {
     "ename": "TypeError",
     "evalue": "say_hi() missing 1 required positional argument: 'massages'",
     "output_type": "error",
     "traceback": [
      "\u001b[1;31m---------------------------------------------------------------------------\u001b[0m",
      "\u001b[1;31mTypeError\u001b[0m                                 Traceback (most recent call last)",
      "\u001b[1;32md:\\Github\\Python\\Basic Concepts\\Basic_Part_5.ipynb Cell 5\u001b[0m in \u001b[0;36m<cell line: 1>\u001b[1;34m()\u001b[0m\n\u001b[1;32m----> <a href='vscode-notebook-cell:/d%3A/Github/Python/Basic%20Concepts/Basic_Part_5.ipynb#W6sZmlsZQ%3D%3D?line=0'>1</a>\u001b[0m say_hi(\n\u001b[0;32m      <a href='vscode-notebook-cell:/d%3A/Github/Python/Basic%20Concepts/Basic_Part_5.ipynb#W6sZmlsZQ%3D%3D?line=1'>2</a>\u001b[0m     name\u001b[39m=\u001b[39;49m\u001b[39m\"\u001b[39;49m\u001b[39mbootcamp\u001b[39;49m\u001b[39m\"\u001b[39;49m\n\u001b[0;32m      <a href='vscode-notebook-cell:/d%3A/Github/Python/Basic%20Concepts/Basic_Part_5.ipynb#W6sZmlsZQ%3D%3D?line=2'>3</a>\u001b[0m )\n",
      "\u001b[1;31mTypeError\u001b[0m: say_hi() missing 1 required positional argument: 'massages'"
     ]
    }
   ],
   "source": [
    "say_hi(\n",
    "    name=\"bootcamp\"\n",
    ")\n"
   ]
  },
  {
   "cell_type": "code",
   "execution_count": 22,
   "metadata": {},
   "outputs": [
    {
     "ename": "TypeError",
     "evalue": "say_hi() missing 2 required positional arguments: 'name' and 'massages'",
     "output_type": "error",
     "traceback": [
      "\u001b[1;31m---------------------------------------------------------------------------\u001b[0m",
      "\u001b[1;31mTypeError\u001b[0m                                 Traceback (most recent call last)",
      "\u001b[1;32md:\\Github\\Python\\Basic Concepts\\Basic_Part_5.ipynb Cell 6\u001b[0m in \u001b[0;36m<cell line: 1>\u001b[1;34m()\u001b[0m\n\u001b[1;32m----> <a href='vscode-notebook-cell:/d%3A/Github/Python/Basic%20Concepts/Basic_Part_5.ipynb#X10sZmlsZQ%3D%3D?line=0'>1</a>\u001b[0m say_hi()\n",
      "\u001b[1;31mTypeError\u001b[0m: say_hi() missing 2 required positional arguments: 'name' and 'massages'"
     ]
    }
   ],
   "source": [
    "say_hi()"
   ]
  },
  {
   "cell_type": "code",
   "execution_count": 23,
   "metadata": {},
   "outputs": [],
   "source": [
    "def say_hi2(name: str = \"Unknown\", massages: list[str] = [\"No msg entered\"]) -> None:\n",
    "    \"\"\"this function will receive your name and say hello to it, \n",
    "    then it will choose a msg from your list and print it to the user.\n",
    "\n",
    "    Args:\n",
    "        name (str, optional): your name. Defaults to \"Unknown\".\n",
    "        massages (list[str], optional): a list of strings. Defaults to [\"No msg entered\"].\n",
    "    \"\"\"\n",
    "    selection = random.choice(massages)\n",
    "    print(\"Hello {names}, {msg}!\".format(names=name, msg=selection))\n"
   ]
  },
  {
   "cell_type": "code",
   "execution_count": 24,
   "metadata": {},
   "outputs": [
    {
     "name": "stdout",
     "output_type": "stream",
     "text": [
      "Hello Unknown, No msg entered!\n"
     ]
    }
   ],
   "source": [
    "say_hi2()"
   ]
  },
  {
   "cell_type": "code",
   "execution_count": 25,
   "metadata": {},
   "outputs": [
    {
     "name": "stdout",
     "output_type": "stream",
     "text": [
      "Hello Alex, No msg entered!\n"
     ]
    }
   ],
   "source": [
    "say_hi2(name=\"Alex\")"
   ]
  },
  {
   "cell_type": "code",
   "execution_count": 28,
   "metadata": {},
   "outputs": [
    {
     "name": "stdout",
     "output_type": "stream",
     "text": [
      "Hello Unknown, Good morning!\n"
     ]
    }
   ],
   "source": [
    "say_hi2(massages=[\"It's a good day today\", \"Good morning\"])"
   ]
  },
  {
   "cell_type": "code",
   "execution_count": 30,
   "metadata": {},
   "outputs": [
    {
     "name": "stdout",
     "output_type": "stream",
     "text": [
      "Hello Alex, No msg entered!\n"
     ]
    }
   ],
   "source": [
    "say_hi2(\"Alex\")"
   ]
  },
  {
   "cell_type": "code",
   "execution_count": 32,
   "metadata": {},
   "outputs": [
    {
     "name": "stdout",
     "output_type": "stream",
     "text": [
      "Hello [\"It's a good day today\", 'Good morning'], No msg entered!\n"
     ]
    }
   ],
   "source": [
    "say_hi2([\"It's a good day today\", \"Good morning\"])"
   ]
  },
  {
   "cell_type": "code",
   "execution_count": 33,
   "metadata": {},
   "outputs": [],
   "source": [
    "def say_hi3(name = \"Unknown\", massages = [\"No msg entered\"]):\n",
    "    selection = random.choice(massages)\n",
    "    print(\"Hello {names}, {msg}!\".format(names=name, msg=selection))"
   ]
  },
  {
   "cell_type": "code",
   "execution_count": 34,
   "metadata": {},
   "outputs": [
    {
     "name": "stdout",
     "output_type": "stream",
     "text": [
      "Hello Unknown, No msg entered!\n"
     ]
    }
   ],
   "source": [
    "say_hi3()"
   ]
  },
  {
   "cell_type": "code",
   "execution_count": 38,
   "metadata": {},
   "outputs": [
    {
     "name": "stdout",
     "output_type": "stream",
     "text": [
      "Hello Unknown, Good morning!\n"
     ]
    }
   ],
   "source": [
    "say_hi3(massages=[\"It's a good day today\", \"Good morning\"])"
   ]
  },
  {
   "cell_type": "code",
   "execution_count": 37,
   "metadata": {},
   "outputs": [
    {
     "ename": "SyntaxError",
     "evalue": "non-default argument follows default argument (894362274.py, line 1)",
     "output_type": "error",
     "traceback": [
      "\u001b[1;36m  Input \u001b[1;32mIn [37]\u001b[1;36m\u001b[0m\n\u001b[1;33m    def say_hi4(name = \"Unknown\", massages):\u001b[0m\n\u001b[1;37m                                  ^\u001b[0m\n\u001b[1;31mSyntaxError\u001b[0m\u001b[1;31m:\u001b[0m non-default argument follows default argument\n"
     ]
    }
   ],
   "source": [
    "def say_hi4(name = \"Unknown\", massages):\n",
    "    selection = random.choice(massages)\n",
    "    print(\"Hello {names}, {msg}!\".format(names=name, msg=selection))"
   ]
  },
  {
   "cell_type": "markdown",
   "metadata": {},
   "source": [
    "## `Arbitrary Arguments`"
   ]
  },
  {
   "cell_type": "code",
   "execution_count": 51,
   "metadata": {},
   "outputs": [],
   "source": [
    "def say_hi_arbitrary(*names) -> None:\n",
    "    print(\"Hello\", end=\" \")\n",
    "    for per_name in names:\n",
    "        if per_name != names[-1]:\n",
    "            print(\"{name}\".format(name=per_name), end=\", \")\n",
    "        else:\n",
    "            print(\"{name}\".format(name=per_name))"
   ]
  },
  {
   "cell_type": "code",
   "execution_count": 52,
   "metadata": {},
   "outputs": [
    {
     "name": "stdout",
     "output_type": "stream",
     "text": [
      "Hello Ali, Sanaz, Kamran, Narges\n"
     ]
    }
   ],
   "source": [
    "say_hi_arbitrary(\"Ali\", \"Sanaz\", \"Kamran\", \"Narges\")"
   ]
  },
  {
   "cell_type": "markdown",
   "metadata": {},
   "source": [
    "## `Recursive Function`"
   ]
  },
  {
   "cell_type": "code",
   "execution_count": 58,
   "metadata": {},
   "outputs": [],
   "source": [
    "def calc_fibonacci(nth_term: int) -> int:\n",
    "    \"\"\"this function receives Nth term of a fibonacci sequence and will begin to add up \n",
    "    from 1st up to Nth term pair-wise\n",
    "\n",
    "    Args:\n",
    "        nth_term (int): N'th term of fibonacci that you want to see\n",
    "\n",
    "    Returns:\n",
    "        int: value of N'th term\n",
    "    \"\"\"\n",
    "    if nth_term in [0, 1]:\n",
    "        return nth_term\n",
    "    else:\n",
    "        return calc_fibonacci(nth_term-1) + calc_fibonacci(nth_term-2)"
   ]
  },
  {
   "cell_type": "code",
   "execution_count": 65,
   "metadata": {},
   "outputs": [
    {
     "data": {
      "text/plain": [
       "6765"
      ]
     },
     "execution_count": 65,
     "metadata": {},
     "output_type": "execute_result"
    }
   ],
   "source": [
    "calc_fibonacci(20)"
   ]
  },
  {
   "cell_type": "markdown",
   "metadata": {},
   "source": [
    "![fibo](https://overiq.com/media/uploads/fibonacci-recursion-1.png)"
   ]
  },
  {
   "cell_type": "markdown",
   "metadata": {},
   "source": [
    "## `Anonymous/Lambda Function`"
   ]
  },
  {
   "cell_type": "code",
   "execution_count": 1,
   "metadata": {},
   "outputs": [],
   "source": [
    "def convert_km_to_mile(kilometer):\n",
    "    return kilometer * 0.6214"
   ]
  },
  {
   "cell_type": "code",
   "execution_count": 2,
   "metadata": {},
   "outputs": [
    {
     "data": {
      "text/plain": [
       "62.13999999999999"
      ]
     },
     "execution_count": 2,
     "metadata": {},
     "output_type": "execute_result"
    }
   ],
   "source": [
    "convert_km_to_mile(100)"
   ]
  },
  {
   "cell_type": "code",
   "execution_count": 10,
   "metadata": {},
   "outputs": [],
   "source": [
    "convert_km_to_mile_lambda = lambda kilometer: kilometer * 0.6214"
   ]
  },
  {
   "cell_type": "code",
   "execution_count": 11,
   "metadata": {},
   "outputs": [
    {
     "data": {
      "text/plain": [
       "62.13999999999999"
      ]
     },
     "execution_count": 11,
     "metadata": {},
     "output_type": "execute_result"
    }
   ],
   "source": [
    "convert_km_to_mile_lambda(100)"
   ]
  },
  {
   "cell_type": "code",
   "execution_count": 14,
   "metadata": {},
   "outputs": [
    {
     "name": "stdout",
     "output_type": "stream",
     "text": [
      "[1, 3, 5, 7, 9]\n"
     ]
    }
   ],
   "source": [
    "my_numbers = [1, 2, 3, 4, 5, 6, 7, 8, 9, 10]\n",
    "\n",
    "odd_numbers = list(\n",
    "    filter(\n",
    "        lambda num: (num%2 != 0),\n",
    "        my_numbers\n",
    "    )\n",
    ")\n",
    "\n",
    "# odd_numbers = list(filter(lambda num: (num%2 != 0), my_numbers))\n",
    "\n",
    "print(odd_numbers)"
   ]
  },
  {
   "cell_type": "code",
   "execution_count": 18,
   "metadata": {},
   "outputs": [
    {
     "name": "stdout",
     "output_type": "stream",
     "text": [
      "[10, 20, 30, 40, 50, 60, 70, 80, 90, 100]\n"
     ]
    }
   ],
   "source": [
    "my_numbers = [1, 2, 3, 4, 5, 6, 7, 8, 9, 10]\n",
    "\n",
    "numbers_times_ten = list(\n",
    "    map(\n",
    "        lambda num: num*10,\n",
    "        my_numbers\n",
    "    )\n",
    ")\n",
    "\n",
    "# numbers_times_ten = list(map(lambda num: num*10, my_numbers))\n",
    "\n",
    "print(numbers_times_ten)"
   ]
  },
  {
   "cell_type": "markdown",
   "metadata": {},
   "source": [
    "## `Global & local scope`"
   ]
  },
  {
   "cell_type": "code",
   "execution_count": 24,
   "metadata": {},
   "outputs": [
    {
     "name": "stdout",
     "output_type": "stream",
     "text": [
      "bootcamp\n",
      "bootcamp\n"
     ]
    }
   ],
   "source": [
    "x = \"bootcamp\"\n",
    "\n",
    "\n",
    "def f1():\n",
    "    print(x)\n",
    "\n",
    "f1()\n",
    "print(x)"
   ]
  },
  {
   "cell_type": "code",
   "execution_count": 32,
   "metadata": {},
   "outputs": [
    {
     "ename": "UnboundLocalError",
     "evalue": "local variable 'x1' referenced before assignment",
     "output_type": "error",
     "traceback": [
      "\u001b[1;31m---------------------------------------------------------------------------\u001b[0m",
      "\u001b[1;31mUnboundLocalError\u001b[0m                         Traceback (most recent call last)",
      "\u001b[1;32md:\\Github\\Python\\Basic Concepts\\Basic_Part_5.ipynb Cell 33\u001b[0m in \u001b[0;36m<cell line: 7>\u001b[1;34m()\u001b[0m\n\u001b[0;32m      <a href='vscode-notebook-cell:/d%3A/Github/Python/Basic%20Concepts/Basic_Part_5.ipynb#X46sZmlsZQ%3D%3D?line=3'>4</a>\u001b[0m     x1 \u001b[39m=\u001b[39m x1 \u001b[39m+\u001b[39m \u001b[39m\"\u001b[39m\u001b[39mbye\u001b[39m\u001b[39m\"\u001b[39m\n\u001b[0;32m      <a href='vscode-notebook-cell:/d%3A/Github/Python/Basic%20Concepts/Basic_Part_5.ipynb#X46sZmlsZQ%3D%3D?line=4'>5</a>\u001b[0m     \u001b[39mprint\u001b[39m(x1)\n\u001b[1;32m----> <a href='vscode-notebook-cell:/d%3A/Github/Python/Basic%20Concepts/Basic_Part_5.ipynb#X46sZmlsZQ%3D%3D?line=6'>7</a>\u001b[0m f2()\n\u001b[0;32m      <a href='vscode-notebook-cell:/d%3A/Github/Python/Basic%20Concepts/Basic_Part_5.ipynb#X46sZmlsZQ%3D%3D?line=7'>8</a>\u001b[0m \u001b[39mprint\u001b[39m(x1)\n",
      "\u001b[1;32md:\\Github\\Python\\Basic Concepts\\Basic_Part_5.ipynb Cell 33\u001b[0m in \u001b[0;36mf2\u001b[1;34m()\u001b[0m\n\u001b[0;32m      <a href='vscode-notebook-cell:/d%3A/Github/Python/Basic%20Concepts/Basic_Part_5.ipynb#X46sZmlsZQ%3D%3D?line=2'>3</a>\u001b[0m \u001b[39mdef\u001b[39;00m \u001b[39mf2\u001b[39m():\n\u001b[1;32m----> <a href='vscode-notebook-cell:/d%3A/Github/Python/Basic%20Concepts/Basic_Part_5.ipynb#X46sZmlsZQ%3D%3D?line=3'>4</a>\u001b[0m     x1 \u001b[39m=\u001b[39m x1 \u001b[39m+\u001b[39m \u001b[39m\"\u001b[39m\u001b[39mbye\u001b[39m\u001b[39m\"\u001b[39m\n\u001b[0;32m      <a href='vscode-notebook-cell:/d%3A/Github/Python/Basic%20Concepts/Basic_Part_5.ipynb#X46sZmlsZQ%3D%3D?line=4'>5</a>\u001b[0m     \u001b[39mprint\u001b[39m(x1)\n",
      "\u001b[1;31mUnboundLocalError\u001b[0m: local variable 'x1' referenced before assignment"
     ]
    }
   ],
   "source": [
    "x1 = \"bootcamp\"\n",
    "\n",
    "def f2():\n",
    "    x1 = x1 + \"bye\"\n",
    "    print(x1)\n",
    "\n",
    "f2()\n",
    "print(x1)"
   ]
  },
  {
   "cell_type": "code",
   "execution_count": 34,
   "metadata": {},
   "outputs": [
    {
     "ename": "NameError",
     "evalue": "name 'inside_var' is not defined",
     "output_type": "error",
     "traceback": [
      "\u001b[1;31m---------------------------------------------------------------------------\u001b[0m",
      "\u001b[1;31mNameError\u001b[0m                                 Traceback (most recent call last)",
      "\u001b[1;32md:\\Github\\Python\\Basic Concepts\\Basic_Part_5.ipynb Cell 34\u001b[0m in \u001b[0;36m<cell line: 5>\u001b[1;34m()\u001b[0m\n\u001b[0;32m      <a href='vscode-notebook-cell:/d%3A/Github/Python/Basic%20Concepts/Basic_Part_5.ipynb#X51sZmlsZQ%3D%3D?line=1'>2</a>\u001b[0m     inside_var \u001b[39m=\u001b[39m \u001b[39m15\u001b[39m\n\u001b[0;32m      <a href='vscode-notebook-cell:/d%3A/Github/Python/Basic%20Concepts/Basic_Part_5.ipynb#X51sZmlsZQ%3D%3D?line=3'>4</a>\u001b[0m f3()\n\u001b[1;32m----> <a href='vscode-notebook-cell:/d%3A/Github/Python/Basic%20Concepts/Basic_Part_5.ipynb#X51sZmlsZQ%3D%3D?line=4'>5</a>\u001b[0m \u001b[39mprint\u001b[39m(inside_var)\n",
      "\u001b[1;31mNameError\u001b[0m: name 'inside_var' is not defined"
     ]
    }
   ],
   "source": [
    "def f3():\n",
    "    inside_var = 15\n",
    "\n",
    "f3()\n",
    "print(inside_var)"
   ]
  },
  {
   "cell_type": "code",
   "execution_count": 36,
   "metadata": {},
   "outputs": [
    {
     "name": "stdout",
     "output_type": "stream",
     "text": [
      "bootcamp bye\n",
      "bootcamp bye\n"
     ]
    }
   ],
   "source": [
    "x2 = \"bootcamp\"\n",
    "\n",
    "def f4():\n",
    "    global x2\n",
    "    x2 = x2 + \" bye\"\n",
    "    print(x2)\n",
    "\n",
    "f4()\n",
    "print(x2)"
   ]
  },
  {
   "cell_type": "code",
   "execution_count": 38,
   "metadata": {},
   "outputs": [
    {
     "ename": "UnboundLocalError",
     "evalue": "local variable 'var' referenced before assignment",
     "output_type": "error",
     "traceback": [
      "\u001b[1;31m---------------------------------------------------------------------------\u001b[0m",
      "\u001b[1;31mUnboundLocalError\u001b[0m                         Traceback (most recent call last)",
      "\u001b[1;32md:\\Github\\Python\\Basic Concepts\\Basic_Part_5.ipynb Cell 36\u001b[0m in \u001b[0;36m<cell line: 11>\u001b[1;34m()\u001b[0m\n\u001b[0;32m      <a href='vscode-notebook-cell:/d%3A/Github/Python/Basic%20Concepts/Basic_Part_5.ipynb#X53sZmlsZQ%3D%3D?line=7'>8</a>\u001b[0m     inside_function()\n\u001b[0;32m      <a href='vscode-notebook-cell:/d%3A/Github/Python/Basic%20Concepts/Basic_Part_5.ipynb#X53sZmlsZQ%3D%3D?line=8'>9</a>\u001b[0m     \u001b[39mprint\u001b[39m(var)\n\u001b[1;32m---> <a href='vscode-notebook-cell:/d%3A/Github/Python/Basic%20Concepts/Basic_Part_5.ipynb#X53sZmlsZQ%3D%3D?line=10'>11</a>\u001b[0m outside_function()\n",
      "\u001b[1;32md:\\Github\\Python\\Basic Concepts\\Basic_Part_5.ipynb Cell 36\u001b[0m in \u001b[0;36moutside_function\u001b[1;34m()\u001b[0m\n\u001b[0;32m      <a href='vscode-notebook-cell:/d%3A/Github/Python/Basic%20Concepts/Basic_Part_5.ipynb#X53sZmlsZQ%3D%3D?line=4'>5</a>\u001b[0m     var \u001b[39m=\u001b[39m var \u001b[39m+\u001b[39m \u001b[39m\"\u001b[39m\u001b[39m hello!\u001b[39m\u001b[39m\"\u001b[39m\n\u001b[0;32m      <a href='vscode-notebook-cell:/d%3A/Github/Python/Basic%20Concepts/Basic_Part_5.ipynb#X53sZmlsZQ%3D%3D?line=5'>6</a>\u001b[0m     \u001b[39mprint\u001b[39m(var)\n\u001b[1;32m----> <a href='vscode-notebook-cell:/d%3A/Github/Python/Basic%20Concepts/Basic_Part_5.ipynb#X53sZmlsZQ%3D%3D?line=7'>8</a>\u001b[0m inside_function()\n\u001b[0;32m      <a href='vscode-notebook-cell:/d%3A/Github/Python/Basic%20Concepts/Basic_Part_5.ipynb#X53sZmlsZQ%3D%3D?line=8'>9</a>\u001b[0m \u001b[39mprint\u001b[39m(var)\n",
      "\u001b[1;32md:\\Github\\Python\\Basic Concepts\\Basic_Part_5.ipynb Cell 36\u001b[0m in \u001b[0;36moutside_function.<locals>.inside_function\u001b[1;34m()\u001b[0m\n\u001b[0;32m      <a href='vscode-notebook-cell:/d%3A/Github/Python/Basic%20Concepts/Basic_Part_5.ipynb#X53sZmlsZQ%3D%3D?line=3'>4</a>\u001b[0m \u001b[39mdef\u001b[39;00m \u001b[39minside_function\u001b[39m():\n\u001b[1;32m----> <a href='vscode-notebook-cell:/d%3A/Github/Python/Basic%20Concepts/Basic_Part_5.ipynb#X53sZmlsZQ%3D%3D?line=4'>5</a>\u001b[0m     var \u001b[39m=\u001b[39m var \u001b[39m+\u001b[39m \u001b[39m\"\u001b[39m\u001b[39m hello!\u001b[39m\u001b[39m\"\u001b[39m\n\u001b[0;32m      <a href='vscode-notebook-cell:/d%3A/Github/Python/Basic%20Concepts/Basic_Part_5.ipynb#X53sZmlsZQ%3D%3D?line=5'>6</a>\u001b[0m     \u001b[39mprint\u001b[39m(var)\n",
      "\u001b[1;31mUnboundLocalError\u001b[0m: local variable 'var' referenced before assignment"
     ]
    }
   ],
   "source": [
    "def outside_function():\n",
    "    var = \"Bootcamp\"\n",
    "    \n",
    "    def inside_function():\n",
    "        var = var + \" hello!\"\n",
    "        print(var)\n",
    "        \n",
    "    inside_function()\n",
    "    print(var)\n",
    "    \n",
    "outside_function()"
   ]
  },
  {
   "cell_type": "code",
   "execution_count": 39,
   "metadata": {},
   "outputs": [
    {
     "name": "stdout",
     "output_type": "stream",
     "text": [
      "Bootcamp hello!\n",
      "Bootcamp hello!\n"
     ]
    }
   ],
   "source": [
    "def outside_function():\n",
    "    var = \"Bootcamp\"\n",
    "    \n",
    "    def inside_function():\n",
    "        nonlocal var\n",
    "        var = var + \" hello!\"\n",
    "        print(var)\n",
    "        \n",
    "    inside_function()\n",
    "    print(var)\n",
    "    \n",
    "outside_function()"
   ]
  },
  {
   "cell_type": "code",
   "execution_count": null,
   "metadata": {},
   "outputs": [],
   "source": []
  }
 ],
 "metadata": {
  "kernelspec": {
   "display_name": "Python 3.10.5 ('.venv_bootcamp': venv)",
   "language": "python",
   "name": "python3"
  },
  "language_info": {
   "codemirror_mode": {
    "name": "ipython",
    "version": 3
   },
   "file_extension": ".py",
   "mimetype": "text/x-python",
   "name": "python",
   "nbconvert_exporter": "python",
   "pygments_lexer": "ipython3",
   "version": "3.10.5"
  },
  "orig_nbformat": 4,
  "vscode": {
   "interpreter": {
    "hash": "57e12f7a9cbe9a77b5a9882830a219468ab15a379b96eade14ae6d0ceaf2078c"
   }
  }
 },
 "nbformat": 4,
 "nbformat_minor": 2
}
