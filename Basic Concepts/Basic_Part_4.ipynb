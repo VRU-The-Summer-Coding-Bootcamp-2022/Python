{
 "cells": [
  {
   "cell_type": "markdown",
   "metadata": {},
   "source": [
    "# The Summer Coding Bootcamp represents: Python\n",
    "## instructor: Parsa Kamalipour\n",
    "### Part 4"
   ]
  },
  {
   "cell_type": "markdown",
   "metadata": {},
   "source": [
    "## `while Loop`"
   ]
  },
  {
   "cell_type": "code",
   "execution_count": 3,
   "metadata": {},
   "outputs": [
    {
     "name": "stdout",
     "output_type": "stream",
     "text": [
      "The sum is 210\n"
     ]
    }
   ],
   "source": [
    "end_number = 20\n",
    "sum = 0\n",
    "character = 1\n",
    "\n",
    "while character <= end_number:\n",
    "    sum += character\n",
    "    character += 1\n",
    "\n",
    "print(\"The sum is\", sum)\n"
   ]
  },
  {
   "cell_type": "code",
   "execution_count": 4,
   "metadata": {},
   "outputs": [],
   "source": [
    "condition_flag = True\n",
    "\n",
    "while condition_flag:\n",
    "    inp = input(\"Enter 'exit' to finish the code: \")\n",
    "    if inp == 'exit':\n",
    "        condition_flag = False\n"
   ]
  },
  {
   "cell_type": "markdown",
   "metadata": {},
   "source": [
    "## `While loop with else`"
   ]
  },
  {
   "cell_type": "code",
   "execution_count": 7,
   "metadata": {},
   "outputs": [
    {
     "name": "stdout",
     "output_type": "stream",
     "text": [
      "1\n",
      "2\n",
      "3\n",
      "4\n",
      "5\n",
      "6\n",
      "7\n",
      "8\n",
      "9\n",
      "10\n",
      "no more numbers are left!\n"
     ]
    }
   ],
   "source": [
    "end_number = 10\n",
    "sum = 0\n",
    "counter = 1\n",
    "\n",
    "while counter <= end_number:\n",
    "    print(counter)\n",
    "    counter += 1\n",
    "else:\n",
    "    print(\"no more numbers are left!\")"
   ]
  },
  {
   "cell_type": "markdown",
   "metadata": {},
   "source": [
    "## `Break`\n",
    "![break](https://cdn.programiz.com/sites/tutorial2program/files/flowchart-break-statement.jpg)"
   ]
  },
  {
   "cell_type": "code",
   "execution_count": 2,
   "metadata": {},
   "outputs": [
    {
     "name": "stdout",
     "output_type": "stream",
     "text": [
      "hopefully we finish funda\n",
      "loop ended\n"
     ]
    }
   ],
   "source": [
    "sentence = \"hopefully we finish fundamentals of python this week!\"\n",
    "\n",
    "for character in sentence:\n",
    "    if character == \"m\":\n",
    "        print(\"\", end=\"\\n\")\n",
    "        break\n",
    "    print(character, end=\"\")\n",
    "print(\"loop ended\") "
   ]
  },
  {
   "cell_type": "markdown",
   "metadata": {},
   "source": [
    "## `continue`\n",
    "![continue](https://cdn.programiz.com/sites/tutorial2program/files/continue-statement-flowchart.jpg)"
   ]
  },
  {
   "cell_type": "code",
   "execution_count": 9,
   "metadata": {},
   "outputs": [
    {
     "name": "stdout",
     "output_type": "stream",
     "text": [
      "hope$ully we $inish $undamen$als o$ py$hon $his week!\n",
      "loop ended\n"
     ]
    }
   ],
   "source": [
    "sentence = \"hopefully we finish fundamentals of python this week!\"\n",
    "\n",
    "for character in sentence:\n",
    "    if character == \"f\" or character == \"t\":\n",
    "        print(\"\", end=\"$\")\n",
    "        continue\n",
    "    print(character, end=\"\")\n",
    "    \n",
    "print()\n",
    "print(\"loop ended\") "
   ]
  },
  {
   "cell_type": "markdown",
   "metadata": {},
   "source": [
    "## `pass`"
   ]
  },
  {
   "cell_type": "code",
   "execution_count": 11,
   "metadata": {},
   "outputs": [],
   "source": [
    "list_1 = ['a', 'b', 'c', 'd']\n",
    "for ch in list_1:\n",
    "    pass"
   ]
  },
  {
   "cell_type": "code",
   "execution_count": 13,
   "metadata": {},
   "outputs": [],
   "source": [
    "def function(args):\n",
    "    pass"
   ]
  },
  {
   "cell_type": "code",
   "execution_count": 14,
   "metadata": {},
   "outputs": [],
   "source": [
    "class Example:\n",
    "    pass"
   ]
  },
  {
   "cell_type": "markdown",
   "metadata": {},
   "source": [
    "## `Functions`"
   ]
  },
  {
   "cell_type": "code",
   "execution_count": 15,
   "metadata": {},
   "outputs": [],
   "source": [
    "def hello(name):\n",
    "    \"\"\"this function receive your name and will say hello to that name \n",
    "\n",
    "    Args:\n",
    "        name (str): your name\n",
    "    \"\"\"\n",
    "    print(\"Hello {your_name}!\".format(your_name=name))"
   ]
  },
  {
   "cell_type": "code",
   "execution_count": 16,
   "metadata": {},
   "outputs": [
    {
     "name": "stdout",
     "output_type": "stream",
     "text": [
      "Hello Mahsa!\n"
     ]
    }
   ],
   "source": [
    "hello(\"Mahsa\")"
   ]
  },
  {
   "cell_type": "code",
   "execution_count": 17,
   "metadata": {},
   "outputs": [],
   "source": [
    "def carefully_hello(name: str) -> None:\n",
    "    print(\"Hello {your_name}!\".format(your_name=name))"
   ]
  },
  {
   "cell_type": "code",
   "execution_count": 20,
   "metadata": {},
   "outputs": [
    {
     "name": "stdout",
     "output_type": "stream",
     "text": [
      "Hello world!\n"
     ]
    }
   ],
   "source": [
    "carefully_hello(name='world')"
   ]
  },
  {
   "cell_type": "code",
   "execution_count": 22,
   "metadata": {},
   "outputs": [
    {
     "name": "stdout",
     "output_type": "stream",
     "text": [
      "this function receive your name and will say hello to that name \n",
      "\n",
      "    Args:\n",
      "        name (str): your name\n",
      "    \n"
     ]
    }
   ],
   "source": [
    "print(hello.__doc__)"
   ]
  },
  {
   "cell_type": "code",
   "execution_count": 23,
   "metadata": {},
   "outputs": [],
   "source": [
    "def carefully_hello2(name: str) -> None:\n",
    "    print(\"Hello {your_name}!\".format(your_name=name))\n",
    "    return None"
   ]
  },
  {
   "cell_type": "code",
   "execution_count": 24,
   "metadata": {},
   "outputs": [
    {
     "name": "stdout",
     "output_type": "stream",
     "text": [
      "Hello Alex!\n"
     ]
    }
   ],
   "source": [
    "carefully_hello2(\"Alex\")"
   ]
  },
  {
   "cell_type": "code",
   "execution_count": 25,
   "metadata": {},
   "outputs": [],
   "source": [
    "def convert_int_to_complex(our_int: int) -> complex:\n",
    "    return complex(our_int)"
   ]
  },
  {
   "cell_type": "code",
   "execution_count": 26,
   "metadata": {},
   "outputs": [
    {
     "name": "stdout",
     "output_type": "stream",
     "text": [
      "(55+0j)\n"
     ]
    }
   ],
   "source": [
    "print(convert_int_to_complex(55))"
   ]
  },
  {
   "cell_type": "code",
   "execution_count": 27,
   "metadata": {},
   "outputs": [],
   "source": [
    "def convert_int_to_complex_sloppy(our_int):\n",
    "    return complex(our_int)"
   ]
  },
  {
   "cell_type": "code",
   "execution_count": 29,
   "metadata": {},
   "outputs": [
    {
     "name": "stdout",
     "output_type": "stream",
     "text": [
      "(55+0j)\n"
     ]
    }
   ],
   "source": [
    "print(convert_int_to_complex_sloppy(55))"
   ]
  },
  {
   "cell_type": "code",
   "execution_count": 33,
   "metadata": {},
   "outputs": [
    {
     "name": "stdout",
     "output_type": "stream",
     "text": [
      "inside of function: 1\n",
      "outside of function: 2\n"
     ]
    }
   ],
   "source": [
    "def func():\n",
    "    xyz = 1\n",
    "    print(\"inside of function: {}\".format(xyz))\n",
    "    \n",
    "xyz = 2\n",
    "func()\n",
    "print(\"outside of function: {}\".format(xyz))"
   ]
  },
  {
   "cell_type": "code",
   "execution_count": null,
   "metadata": {},
   "outputs": [],
   "source": []
  }
 ],
 "metadata": {
  "kernelspec": {
   "display_name": "Python 3.10.5 ('.venv_bootcamp': venv)",
   "language": "python",
   "name": "python3"
  },
  "language_info": {
   "codemirror_mode": {
    "name": "ipython",
    "version": 3
   },
   "file_extension": ".py",
   "mimetype": "text/x-python",
   "name": "python",
   "nbconvert_exporter": "python",
   "pygments_lexer": "ipython3",
   "version": "3.10.5"
  },
  "orig_nbformat": 4,
  "vscode": {
   "interpreter": {
    "hash": "57e12f7a9cbe9a77b5a9882830a219468ab15a379b96eade14ae6d0ceaf2078c"
   }
  }
 },
 "nbformat": 4,
 "nbformat_minor": 2
}
